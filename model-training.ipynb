{
 "cells": [
  {
   "cell_type": "code",
   "execution_count": 62,
   "metadata": {},
   "outputs": [],
   "source": [
    "import numpy as np\n",
    "import pandas as pd\n",
    "import matplotlib.pyplot as plt\n",
    "import os\n",
    "import time\n",
    "import tensorflow\n",
    "from tensorflow.keras.models import Sequential, Model\n",
    "from tensorflow.keras.models import load_model\n",
    "from tensorflow.keras.layers import Input, Dense, Dropout, Flatten,BatchNormalization\n",
    "from tensorflow.keras.layers import Conv2D, MaxPooling2D,AveragePooling2D, GRU, LSTM, Bidirectional,Reshape\n",
    "from tensorflow.keras import regularizers\n",
    "from tensorflow.keras.optimizers import SGD, Adam, RMSprop \n",
    "from tensorflow.keras.preprocessing.image import ImageDataGenerator\n",
    "from tensorflow.keras.callbacks import LearningRateScheduler,ReduceLROnPlateau,ModelCheckpoint,EarlyStopping\n",
    "from tensorflow.keras.utils import to_categorical, plot_model\n",
    "from torch.utils.data import DataLoader, Dataset\n",
    "import cv2 as cv\n",
    "import seaborn as sns\n",
    "from sklearn.metrics import confusion_matrix, accuracy_score, precision_score, recall_score, f1_score, classification_report\n",
    "from sklearn.model_selection import train_test_split\n",
    "import warnings\n",
    "warnings.filterwarnings('ignore')"
   ]
  },
  {
   "cell_type": "code",
   "execution_count": 46,
   "metadata": {},
   "outputs": [],
   "source": [
    "df = pd.read_csv('./preprocessed-dataset-meta-file.csv')"
   ]
  },
  {
   "cell_type": "code",
   "execution_count": 47,
   "metadata": {},
   "outputs": [],
   "source": [
    "data_path = './dataset'"
   ]
  },
  {
   "cell_type": "code",
   "execution_count": 48,
   "metadata": {},
   "outputs": [
    {
     "data": {
      "image/png": "[encoded data removed]",
      "text/plain": [
       "<Figure size 432x288 with 1 Axes>"
      ]
     },
     "metadata": {
      "needs_background": "light"
     },
     "output_type": "display_data"
    }
   ],
   "source": [
    "counts = df['label'].value_counts().to_dict()\n",
    "plt.bar(counts.keys(), counts.values())\n",
    "plt.title('number of samples')\n",
    "for i, val in enumerate(counts.values()):\n",
    "    plt.text(i - 0.07, val / 2, f'{val}', color = 'white', fontweight = 'bold')\n",
    "# End For\n",
    "plt.show()"
   ]
  },
  {
   "cell_type": "code",
   "execution_count": 49,
   "metadata": {},
   "outputs": [],
   "source": [
    "classes_dict = {'without_mask': 0, 'with_mask': 1}\n",
    "def encode_label(label):\n",
    "    return classes_dict[label]\n",
    "# End Func"
   ]
  },
  {
   "cell_type": "code",
   "execution_count": 50,
   "metadata": {},
   "outputs": [
    {
     "name": "stdout",
     "output_type": "stream",
     "text": [
      "Loading Time: 6.479979515075684 seconds\n"
     ]
    }
   ],
   "source": [
    "tic = time.time()\n",
    "X, y = [], []\n",
    "for i, img_path in enumerate(df['img_path'].values):\n",
    "    img = cv.imread(img_path, 1)\n",
    "    lbl = df['label'].values[i]\n",
    "    X.append(img)\n",
    "    y.append(encode_label(lbl))\n",
    "# End For\n",
    "X = np.array(X)\n",
    "y = np.array(y)\n",
    "toc = time.time()\n",
    "print(f'Loading Time: {toc - tic} seconds')"
   ]
  },
  {
   "cell_type": "code",
   "execution_count": 51,
   "metadata": {},
   "outputs": [
    {
     "data": {
      "text/plain": [
       "(3810, 96, 96, 3)"
      ]
     },
     "execution_count": 51,
     "metadata": {},
     "output_type": "execute_result"
    }
   ],
   "source": [
    "if len(X.shape) == 3:\n",
    "    X = X.reshape(-1, X.shape[1], X.shape[2], 1)\n",
    "# End If\n",
    "X.shape"
   ]
  },
  {
   "cell_type": "code",
   "execution_count": 52,
   "metadata": {},
   "outputs": [],
   "source": [
    "X_train, X_test, y_train, y_test = train_test_split(X, y, test_size=0.1, shuffle=True, stratify=y, random_state=42)"
   ]
  },
  {
   "cell_type": "code",
   "execution_count": 53,
   "metadata": {},
   "outputs": [],
   "source": [
    "class ConvBlock:\n",
    "    def __init__(self, out_dims, batch_norm = False):\n",
    "        self.out_dims = out_dims\n",
    "        self.batch_norm = batch_norm\n",
    "    # End Func\n",
    "    \n",
    "    def __call__(self, input_layer):\n",
    "        out = Conv2D(self.out_dims[0], (3, 3),padding='same', activation='linear')(input_layer)\n",
    "        out = Conv2D(\n",
    "            self.out_dims[1], (3, 3), \n",
    "            kernel_regularizer=regularizers.l2(0.001),\n",
    "            padding='valid', \n",
    "            activation='elu'\n",
    "        )(out)\n",
    "        if self.batch_norm == True:\n",
    "            out = BatchNormalization()(out)\n",
    "        # End If\n",
    "        out = Dropout(0.15)(out)\n",
    "        out = MaxPooling2D(pool_size=(2, 2))(out)\n",
    "        return out\n",
    "    # End Func\n",
    "# End Class\n",
    "\n",
    "def ConvNet(input_shape = (96,96,3)):\n",
    "    input_layer = Input(shape = input_shape)\n",
    "    out = ConvBlock(out_dims = [3, 16])(input_layer)\n",
    "    out = Flatten()(out)\n",
    "    out = Dense(256, activation='relu')(out)\n",
    "    out = Dropout(0.15)(out)\n",
    "    output_layer = Dense(1, activation='sigmoid')(out)\n",
    "    return Model(input_layer, output_layer)\n",
    "# End Func"
   ]
  },
  {
   "cell_type": "code",
   "execution_count": 54,
   "metadata": {},
   "outputs": [
    {
     "name": "stdout",
     "output_type": "stream",
     "text": [
      "Model: \"model_7\"\n",
      "_________________________________________________________________\n",
      " Layer (type)                Output Shape              Param #   \n",
      "=================================================================\n",
      " input_8 (InputLayer)        [(None, 96, 96, 3)]       0         \n",
      "                                                                 \n",
      " conv2d_14 (Conv2D)          (None, 96, 96, 3)         84        \n",
      "                                                                 \n",
      " conv2d_15 (Conv2D)          (None, 94, 94, 16)        448       \n",
      "                                                                 \n",
      " dropout_14 (Dropout)        (None, 94, 94, 16)        0         \n",
      "                                                                 \n",
      " max_pooling2d_7 (MaxPooling  (None, 47, 47, 16)       0         \n",
      " 2D)                                                             \n",
      "                                                                 \n",
      " flatten_7 (Flatten)         (None, 35344)             0         \n",
      "                                                                 \n",
      " dense_14 (Dense)            (None, 256)               9048320   \n",
      "                                                                 \n",
      " dropout_15 (Dropout)        (None, 256)               0         \n",
      "                                                                 \n",
      " dense_15 (Dense)            (None, 1)                 257       \n",
      "                                                                 \n",
      "=================================================================\n",
      "Total params: 9,049,109\n",
      "Trainable params: 9,049,109\n",
      "Non-trainable params: 0\n",
      "_________________________________________________________________\n",
      "None\n"
     ]
    }
   ],
   "source": [
    "model = ConvNet(input_shape = (96,96,3))\n",
    "print(model.summary())"
   ]
  },
  {
   "cell_type": "code",
   "execution_count": 55,
   "metadata": {},
   "outputs": [
    {
     "name": "stdout",
     "output_type": "stream",
     "text": [
      "Epoch 1/10\n",
      "WARNING:tensorflow:AutoGraph could not transform <function Model.make_train_function.<locals>.train_function at 0x0000023D1C7D7168> and will run it as-is.\n",
      "Please report this to the TensorFlow team. When filing the bug, set the verbosity to 10 (on Linux, `export AUTOGRAPH_VERBOSITY=10`) and attach the full output.\n",
      "Cause: 'arguments' object has no attribute 'posonlyargs'\n",
      "To silence this warning, decorate the function with @tf.autograph.experimental.do_not_convert\n",
      "WARNING: AutoGraph could not transform <function Model.make_train_function.<locals>.train_function at 0x0000023D1C7D7168> and will run it as-is.\n",
      "Please report this to the TensorFlow team. When filing the bug, set the verbosity to 10 (on Linux, `export AUTOGRAPH_VERBOSITY=10`) and attach the full output.\n",
      "Cause: 'arguments' object has no attribute 'posonlyargs'\n",
      "To silence this warning, decorate the function with @tf.autograph.experimental.do_not_convert\n",
      "35/35 [==============================] - ETA: 0s - loss: 30.2718 - accuracy: 0.7031WARNING:tensorflow:AutoGraph could not transform <function Model.make_test_function.<locals>.test_function at 0x0000023D1E431048> and will run it as-is.\n",
      "Please report this to the TensorFlow team. When filing the bug, set the verbosity to 10 (on Linux, `export AUTOGRAPH_VERBOSITY=10`) and attach the full output.\n",
      "Cause: 'arguments' object has no attribute 'posonlyargs'\n",
      "To silence this warning, decorate the function with @tf.autograph.experimental.do_not_convert\n",
      "WARNING: AutoGraph could not transform <function Model.make_test_function.<locals>.test_function at 0x0000023D1E431048> and will run it as-is.\n",
      "Please report this to the TensorFlow team. When filing the bug, set the verbosity to 10 (on Linux, `export AUTOGRAPH_VERBOSITY=10`) and attach the full output.\n",
      "Cause: 'arguments' object has no attribute 'posonlyargs'\n",
      "To silence this warning, decorate the function with @tf.autograph.experimental.do_not_convert\n",
      "\n",
      "Epoch 00001: val_accuracy improved from -inf to 0.90289, saving model to bestmodel.hdf5\n",
      "35/35 [==============================] - 53s 1s/step - loss: 30.2718 - accuracy: 0.7031 - val_loss: 2.5430 - val_accuracy: 0.9029\n",
      "Epoch 2/10\n",
      "35/35 [==============================] - ETA: 0s - loss: 1.9426 - accuracy: 0.8959\n",
      "Epoch 00002: val_accuracy improved from 0.90289 to 0.91864, saving model to bestmodel.hdf5\n",
      "35/35 [==============================] - 54s 2s/step - loss: 1.9426 - accuracy: 0.8959 - val_loss: 0.8223 - val_accuracy: 0.9186\n",
      "Epoch 3/10\n",
      "35/35 [==============================] - ETA: 0s - loss: 0.4580 - accuracy: 0.9251\n",
      "Epoch 00003: val_accuracy did not improve from 0.91864\n",
      "35/35 [==============================] - 53s 2s/step - loss: 0.4580 - accuracy: 0.9251 - val_loss: 0.4509 - val_accuracy: 0.9160\n",
      "Epoch 4/10\n",
      "35/35 [==============================] - ETA: 0s - loss: 0.1751 - accuracy: 0.9519\n",
      "Epoch 00004: val_accuracy improved from 0.91864 to 0.92913, saving model to bestmodel.hdf5\n",
      "35/35 [==============================] - 54s 2s/step - loss: 0.1751 - accuracy: 0.9519 - val_loss: 0.3583 - val_accuracy: 0.9291\n",
      "Epoch 5/10\n",
      "35/35 [==============================] - ETA: 0s - loss: 0.1010 - accuracy: 0.9679\n",
      "Epoch 00005: val_accuracy did not improve from 0.92913\n",
      "35/35 [==============================] - 49s 1s/step - loss: 0.1010 - accuracy: 0.9679 - val_loss: 0.3300 - val_accuracy: 0.9213\n",
      "Epoch 6/10\n",
      "35/35 [==============================] - ETA: 0s - loss: 0.0707 - accuracy: 0.9764\n",
      "Epoch 00006: val_accuracy did not improve from 0.92913\n",
      "35/35 [==============================] - 48s 1s/step - loss: 0.0707 - accuracy: 0.9764 - val_loss: 0.3203 - val_accuracy: 0.9265\n",
      "Epoch 7/10\n",
      "35/35 [==============================] - ETA: 0s - loss: 0.0561 - accuracy: 0.9840\n",
      "Epoch 00007: val_accuracy did not improve from 0.92913\n",
      "35/35 [==============================] - 48s 1s/step - loss: 0.0561 - accuracy: 0.9840 - val_loss: 0.3489 - val_accuracy: 0.9265\n",
      "Epoch 8/10\n",
      "35/35 [==============================] - ETA: 0s - loss: 0.0445 - accuracy: 0.9875\n",
      "Epoch 00008: val_accuracy improved from 0.92913 to 0.93963, saving model to bestmodel.hdf5\n",
      "35/35 [==============================] - 51s 1s/step - loss: 0.0445 - accuracy: 0.9875 - val_loss: 0.3345 - val_accuracy: 0.9396\n",
      "Epoch 9/10\n",
      "35/35 [==============================] - ETA: 0s - loss: 0.0369 - accuracy: 0.9895\n",
      "Epoch 00009: val_accuracy did not improve from 0.93963\n",
      "35/35 [==============================] - 48s 1s/step - loss: 0.0369 - accuracy: 0.9895 - val_loss: 0.3446 - val_accuracy: 0.9344\n",
      "Epoch 10/10\n",
      "35/35 [==============================] - ETA: 0s - loss: 0.0331 - accuracy: 0.9924\n",
      "Epoch 00010: val_accuracy did not improve from 0.93963\n",
      "35/35 [==============================] - 48s 1s/step - loss: 0.0331 - accuracy: 0.9924 - val_loss: 0.3290 - val_accuracy: 0.9265\n"
     ]
    }
   ],
   "source": [
    "sgd = SGD(lr=0.001, decay=1e-6, momentum=0.9)\n",
    "rmsprp_opt = tensorflow.keras.optimizers.RMSprop(lr=0.00003 ,decay=1e-4)\n",
    "adam=tensorflow.keras.optimizers.Adam(lr=0.0002)\n",
    "model.compile(loss='binary_crossentropy',\n",
    "              optimizer=adam,\n",
    "              metrics=['accuracy'])\n",
    "checkpoint = ModelCheckpoint(filepath='bestmodel.hdf5', verbose=1,monitor='val_accuracy',save_best_only=True,save_weights_only=False)\n",
    "\n",
    "H1=model.fit(\n",
    "    X_train, y_train,\n",
    "    batch_size = 100, epochs=10,\n",
    "    verbose=1,\n",
    "    callbacks = [checkpoint],\n",
    "    validation_data=(X_test, y_test)\n",
    ")"
   ]
  },
  {
   "cell_type": "code",
   "execution_count": 67,
   "metadata": {},
   "outputs": [
    {
     "name": "stdout",
     "output_type": "stream",
     "text": [
      "WARNING:tensorflow:AutoGraph could not transform <function Model.make_predict_function.<locals>.predict_function at 0x0000023D1C7FF1F8> and will run it as-is.\n",
      "Please report this to the TensorFlow team. When filing the bug, set the verbosity to 10 (on Linux, `export AUTOGRAPH_VERBOSITY=10`) and attach the full output.\n",
      "Cause: 'arguments' object has no attribute 'posonlyargs'\n",
      "To silence this warning, decorate the function with @tf.autograph.experimental.do_not_convert\n",
      "WARNING: AutoGraph could not transform <function Model.make_predict_function.<locals>.predict_function at 0x0000023D1C7FF1F8> and will run it as-is.\n",
      "Please report this to the TensorFlow team. When filing the bug, set the verbosity to 10 (on Linux, `export AUTOGRAPH_VERBOSITY=10`) and attach the full output.\n",
      "Cause: 'arguments' object has no attribute 'posonlyargs'\n",
      "To silence this warning, decorate the function with @tf.autograph.experimental.do_not_convert\n",
      "Model Evaluation\n",
      "======================\n",
      "Accuracy Score: 93.96%\n",
      "Precision Score: 94.01%\n",
      "Recall Score: 93.98%\n",
      "F1 Score: 93.96%\n",
      "Classification Report: \n",
      "               precision    recall  f1-score   support\n",
      "\n",
      "without_mask       0.96      0.92      0.94       192\n",
      "   with_mask       0.92      0.96      0.94       189\n",
      "\n",
      "    accuracy                           0.94       381\n",
      "   macro avg       0.94      0.94      0.94       381\n",
      "weighted avg       0.94      0.94      0.94       381\n",
      "\n"
     ]
    },
    {
     "data": {
      "image/png": "[encoded data removed]",
      "text/plain": [
       "<Figure size 360x288 with 2 Axes>"
      ]
     },
     "metadata": {
      "needs_background": "light"
     },
     "output_type": "display_data"
    },
    {
     "data": {
      "image/png": "[encoded data removed]",
      "text/plain": [
       "<Figure size 1152x360 with 2 Axes>"
      ]
     },
     "metadata": {
      "needs_background": "light"
     },
     "output_type": "display_data"
    }
   ],
   "source": [
    "model_t = load_model('model/bestmodel-93.hdf5')\n",
    "y_predict = (model_t.predict(X_test) > 0.5).ravel().astype(np.int8)\n",
    "evaluate_model(y_true = y_test, y_predict = y_predict, cls_names=classes_dict.keys())\n",
    "plt_learning_curves(H1.history)"
   ]
  }
 ],
 "metadata": {
  "interpreter": {
   "hash": "55fec0df089519fb1d89be7d25413cfb4aa9ecb4ea600f4722d37d4161078819"
  },
  "kernelspec": {
   "display_name": "Python 3.7.6 64-bit ('base': conda)",
   "language": "python",
   "name": "python3"
  },
  "language_info": {
   "codemirror_mode": {
    "name": "ipython",
    "version": 3
   },
   "file_extension": ".py",
   "mimetype": "text/x-python",
   "name": "python",
   "nbconvert_exporter": "python",
   "pygments_lexer": "ipython3",
   "version": "3.7.6"
  },
  "orig_nbformat": 4
 },
 "nbformat": 4,
 "nbformat_minor": 2
}
